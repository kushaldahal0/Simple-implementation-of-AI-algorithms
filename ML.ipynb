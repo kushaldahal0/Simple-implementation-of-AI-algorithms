{
  "cells": [
    {
      "attachments": {},
      "cell_type": "markdown",
      "metadata": {},
      "source": [
        "implement Naive bayes algorithm"
      ]
    },
    {
      "cell_type": "code",
      "execution_count": 2,
      "metadata": {
        "trusted": true
      },
      "outputs": [
        {
          "name": "stdout",
          "output_type": "stream",
          "text": [
            "Accuracy: 0.9666666666666667\n"
          ]
        }
      ],
      "source": [
        "from sklearn.datasets import load_iris\n",
        "from sklearn.naive_bayes import GaussianNB\n",
        "from sklearn.model_selection import train_test_split\n",
        "from sklearn.metrics import accuracy_score\n",
        "\n",
        "# Load the iris dataset\n",
        "iris = load_iris()\n",
        "\n",
        "# Split the dataset into training and testing sets\n",
        "X_train, X_test, y_train, y_test = train_test_split(iris.data, iris.target, test_size=0.2, random_state=0)\n",
        "\n",
        "# Create a Gaussian Naive Bayes model\n",
        "model = GaussianNB()\n",
        "\n",
        "# Train the model on the training set\n",
        "model.fit(X_train, y_train)\n",
        "\n",
        "# Use the model to make predictions on the testing set\n",
        "y_pred = model.predict(X_test)\n",
        "\n",
        "# Calculate the accuracy of the model on the testing set\n",
        "accuracy = accuracy_score(y_test, y_pred)\n",
        "\n",
        "# Print the accuracy score\n",
        "print(\"Accuracy:\", accuracy)"
      ]
    },
    {
      "attachments": {},
      "cell_type": "markdown",
      "metadata": {},
      "source": [
        "implement back propagation "
      ]
    },
    {
      "cell_type": "code",
      "execution_count": 13,
      "metadata": {
        "trusted": true
      },
      "outputs": [
        {
          "name": "stdout",
          "output_type": "stream",
          "text": [
            "[[0.0197898 ]\n",
            " [0.97457265]\n",
            " [0.97846121]\n",
            " [0.02965726]]\n"
          ]
        }
      ],
      "source": [
        "import numpy as np\n",
        "\n",
        "# Define the sigmoid activation function\n",
        "def sigmoid(x):\n",
        "    return 1 / (1 + np.exp(-x))\n",
        "\n",
        "# Define the derivative of the sigmoid function\n",
        "def sigmoid_derivative(x):\n",
        "    return x * (1 - x)\n",
        "\n",
        "# Define the input dataset\n",
        "X = np.array([[0,0,1],[0,1,1],[1,0,1],[1,1,1]])\n",
        "\n",
        "# Define the output dataset\n",
        "y = np.array([[0],[1],[1],[0]])\n",
        "\n",
        "# Seed the random number generator\n",
        "np.random.seed(1)\n",
        "\n",
        "# Initialize the weights with random values\n",
        "weights_0 = 2 * np.random.random((3,4)) - 1\n",
        "weights_1 = 2 * np.random.random((4,1)) - 1\n",
        "\n",
        "# Set the learning rate\n",
        "learning_rate = 0.2\n",
        "\n",
        "# Train the neural network\n",
        "for i in range(10000):\n",
        "\n",
        "    # Forward propagation\n",
        "    layer_0 = X\n",
        "    layer_1 = sigmoid(np.dot(layer_0, weights_0))\n",
        "    layer_2 = sigmoid(np.dot(layer_1, weights_1))\n",
        "\n",
        "    # Calculate the error\n",
        "    error = y - layer_2\n",
        "\n",
        "    # Backpropagation\n",
        "    layer_2_delta = error * sigmoid_derivative(layer_2)\n",
        "    layer_1_error = layer_2_delta.dot(weights_1.T)\n",
        "    layer_1_delta = layer_1_error * sigmoid_derivative(layer_1)\n",
        "\n",
        "    # Update the weights\n",
        "    weights_1 += learning_rate * layer_1.T.dot(layer_2_delta)\n",
        "    weights_0 += learning_rate * layer_0.T.dot(layer_1_delta)\n",
        "\n",
        "# Print the final output\n",
        "print(layer_2)"
      ]
    },
    {
      "attachments": {},
      "cell_type": "markdown",
      "metadata": {},
      "source": [
        "implement genetic algorithm\n"
      ]
    },
    {
      "cell_type": "code",
      "execution_count": 26,
      "metadata": {
        "trusted": true
      },
      "outputs": [
        {
          "name": "stdout",
          "output_type": "stream",
          "text": [
            "[[1, 1, 1, 1, 0], [0, 1, 1, 1, 1], [1, 1, 0, 1, 1], [0, 1, 1, 1, 1], [1, 1, 1, 1, 0], [1, 0, 1, 1, 1], [0, 1, 1, 1, 1], [1, 1, 0, 1, 1], [1, 1, 1, 1, 1], [1, 1, 1, 1, 1]]\n"
          ]
        }
      ],
      "source": [
        "import random\n",
        "\n",
        "# Define the fitness function\n",
        "def fitness(chromosome):\n",
        "    return sum(chromosome)\n",
        "\n",
        "# Define the population size and chromosome length\n",
        "population_size = 10\n",
        "chromosome_length = 5\n",
        "\n",
        "# Generate the initial population\n",
        "population = [[random.randint(0, 1) for _ in range(chromosome_length)] for _ in range(population_size)]\n",
        "\n",
        "# Set the number of generations\n",
        "num_generations = 100\n",
        "\n",
        "# Evolve the population\n",
        "for generation in range(num_generations):\n",
        "\n",
        "    # Calculate the fitness of each chromosome\n",
        "    fitness_scores = [fitness(chromosome) for chromosome in population]\n",
        "\n",
        "    # Select the parents for crossover\n",
        "    parent1 = population[fitness_scores.index(max(fitness_scores))]\n",
        "    population.remove(parent1)\n",
        "    parent2_fitness_scores = [fitness(chromosome) for chromosome in population]\n",
        "    parent2 = population[parent2_fitness_scores.index(max(parent2_fitness_scores))]\n",
        "    population.append(parent1) \n",
        "\n",
        "    # Crossover the parents to create new offspring\n",
        "    crossover_point = random.randint(1, len(parent1) - 1)\n",
        "    child1 = parent1[:crossover_point] + parent2[crossover_point:]\n",
        "    child2 = parent2[:crossover_point] + parent1[crossover_point:]\n",
        "\n",
        "    # Mutate the offspring\n",
        "    mutation_point = random.randint(0, len(child1) - 1)\n",
        "    child1[mutation_point] = 1 - child1[mutation_point]\n",
        "    mutation_point = random.randint(0, len(child2) - 1)\n",
        "    child2[mutation_point] = 1 - child2[mutation_point]\n",
        "\n",
        "    # Replace the two least fit chromosomes with the new offspring\n",
        "    fitness_scores = [fitness(chromosome) for chromosome in population]\n",
        "    population[fitness_scores.index(min(fitness_scores))] = child1\n",
        "    population[fitness_scores.index(min(fitness_scores))] = child2\n",
        "\n",
        "# Print the final population\n",
        "print(population)"
      ]
    },
    {
      "cell_type": "code",
      "execution_count": null,
      "metadata": {},
      "outputs": [],
      "source": []
    }
  ],
  "metadata": {
    "kernelspec": {
      "display_name": "Python (Pyodide)",
      "language": "python",
      "name": "python"
    },
    "language_info": {
      "codemirror_mode": {
        "name": "python",
        "version": 3
      },
      "file_extension": ".py",
      "mimetype": "text/x-python",
      "name": "python",
      "nbconvert_exporter": "python",
      "pygments_lexer": "ipython3",
      "version": "3.8"
    }
  },
  "nbformat": 4,
  "nbformat_minor": 4
}
